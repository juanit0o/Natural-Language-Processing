{
 "cells": [
  {
   "cell_type": "code",
   "execution_count": null,
   "metadata": {
    "pycharm": {
     "is_executing": false
    }
   },
   "outputs": [],
   "source": [
    "from bertviz import model_view\n",
    "from transformers import AlbertTokenizer, AlbertModel, utils"
   ]
  },
  {
   "cell_type": "code",
   "execution_count": null,
   "metadata": {},
   "outputs": [],
   "source": [
    "def show_model_view(model, tokenizer, sentence_a, sentence_b=None, hide_delimiter_attn=False):\n",
    "    inputs = tokenizer.encode_plus(sentence_a, sentence_b, return_tensors='pt', add_special_tokens=True)\n",
    "    input_ids = inputs['input_ids']\n",
    "    if sentence_b:\n",
    "        token_type_ids = inputs['token_type_ids']\n",
    "        attention = model(input_ids, token_type_ids=token_type_ids)[-1]\n",
    "        sentence_b_start = token_type_ids[0].tolist().index(1)\n",
    "    else:\n",
    "        attention = model(input_ids)[-1]\n",
    "        sentence_b_start = None\n",
    "    input_id_list = input_ids[0].tolist() # Batch index 0\n",
    "    tokens = tokenizer.convert_ids_to_tokens(input_id_list)  \n",
    "    if hide_delimiter_attn:\n",
    "        for i, t in enumerate(tokens):\n",
    "            if t in (\"[SEP]\", \"[CLS]\"):\n",
    "                for layer_attn in attention:\n",
    "                    layer_attn[0, :, i, :] = 0\n",
    "                    layer_attn[0, :, :, i] = 0\n",
    "    model_view(attention, tokens, sentence_b_start)"
   ]
  },
  {
   "cell_type": "code",
   "execution_count": null,
   "metadata": {
    "pycharm": {
     "is_executing": false
    },
    "scrolled": false
   },
   "outputs": [],
   "source": [
    "utils.logging.set_verbosity_error()  # Remove line to see warnings\n",
    "model_version = 'albert-base-v2'\n",
    "model = AlbertModel.from_pretrained(model_version, output_attentions=True)\n",
    "tokenizer = AlbertTokenizer.from_pretrained(model_version)\n",
    "sentence_a = \"The cat sat on the mat\"\n",
    "sentence_b = \"The cat lay on the rug\"\n",
    "show_model_view(model, tokenizer, sentence_a, sentence_b, hide_delimiter_attn=False)"
   ]
  }
 ],
 "metadata": {
  "kernelspec": {
   "display_name": "Python 3 (ipykernel)",
   "language": "python",
   "name": "python3"
  },
  "language_info": {
   "codemirror_mode": {
    "name": "ipython",
    "version": 3
   },
   "file_extension": ".py",
   "mimetype": "text/x-python",
   "name": "python",
   "nbconvert_exporter": "python",
   "pygments_lexer": "ipython3",
   "version": "3.8.10"
  },
  "pycharm": {
   "stem_cell": {
    "cell_type": "raw",
    "metadata": {
     "collapsed": false
    },
    "source": []
   }
  }
 },
 "nbformat": 4,
 "nbformat_minor": 1
}
