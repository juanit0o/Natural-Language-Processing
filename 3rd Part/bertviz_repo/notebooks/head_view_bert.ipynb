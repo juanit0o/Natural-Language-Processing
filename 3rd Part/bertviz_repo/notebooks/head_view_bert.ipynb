{
 "cells": [
  {
   "cell_type": "code",
   "execution_count": null,
   "metadata": {
    "pycharm": {
     "is_executing": false
    }
   },
   "outputs": [],
   "source": [
    "from bertviz import head_view\n",
    "from transformers import BertTokenizer, BertModel, utils"
   ]
  },
  {
   "cell_type": "code",
   "execution_count": null,
   "metadata": {
    "pycharm": {
     "name": "#%%\n"
    }
   },
   "outputs": [],
   "source": [
    "def show_head_view(model, tokenizer, sentence_a, sentence_b=None, layer=None, heads=None):\n",
    "    inputs = tokenizer.encode_plus(sentence_a, sentence_b, return_tensors='pt', add_special_tokens=True)\n",
    "    input_ids = inputs['input_ids']\n",
    "    if sentence_b:\n",
    "        token_type_ids = inputs['token_type_ids']\n",
    "        attention = model(input_ids, token_type_ids=token_type_ids)[-1]\n",
    "        sentence_b_start = token_type_ids[0].tolist().index(1)\n",
    "    else:\n",
    "        attention = model(input_ids)[-1]\n",
    "        sentence_b_start = None\n",
    "    input_id_list = input_ids[0].tolist() # Batch index 0\n",
    "    tokens = tokenizer.convert_ids_to_tokens(input_id_list)    \n",
    "    head_view(attention, tokens, sentence_b_start, layer=layer, heads=heads)"
   ]
  },
  {
   "cell_type": "code",
   "execution_count": null,
   "metadata": {
    "pycharm": {
     "is_executing": false,
     "name": "#%%\n"
    },
    "scrolled": true
   },
   "outputs": [],
   "source": [
    "utils.logging.set_verbosity_error()  # Remove line to see warnings\n",
    "model_version = 'bert-base-uncased'\n",
    "do_lower_case = True\n",
    "model = BertModel.from_pretrained(model_version, output_attentions=True)\n",
    "tokenizer = BertTokenizer.from_pretrained(model_version, do_lower_case=do_lower_case)\n",
    "sentence_a = \"the rabbit quickly hopped\"\n",
    "sentence_b = \"The turtle slowly crawled\"\n",
    "show_head_view(model, tokenizer, sentence_a, sentence_b)"
   ]
  }
 ],
 "metadata": {
  "kernelspec": {
   "display_name": "Python 3 (ipykernel)",
   "language": "python",
   "name": "python3"
  },
  "language_info": {
   "codemirror_mode": {
    "name": "ipython",
    "version": 3
   },
   "file_extension": ".py",
   "mimetype": "text/x-python",
   "name": "python",
   "nbconvert_exporter": "python",
   "pygments_lexer": "ipython3",
   "version": "3.8.10"
  }
 },
 "nbformat": 4,
 "nbformat_minor": 4
}
